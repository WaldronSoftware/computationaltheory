{
 "cells": [
  {
   "cell_type": "markdown",
   "id": "3b68d19c-b4d8-4aa4-9e0a-e7cc4e529703",
   "metadata": {},
   "source": [
    "# Countdown: Numbers Round - Analysis and Solution\n",
    "### Computational Theory<br>Ronan Waldron<br>G00384180"
   ]
  },
  {
   "cell_type": "markdown",
   "id": "42d337ef-6089-4696-a5ad-5611b1a8e819",
   "metadata": {},
   "source": [
    "---"
   ]
  },
  {
   "cell_type": "markdown",
   "id": "ac4eb87e-ea9c-44eb-8352-a7d758c8a209",
   "metadata": {},
   "source": [
    "## Introduction"
   ]
  },
  {
   "cell_type": "markdown",
   "id": "228408e4-b03c-4554-a836-252a4ed82cea",
   "metadata": {},
   "source": [
    "---"
   ]
  },
  {
   "cell_type": "markdown",
   "id": "20dcb08d-dabd-4283-8714-22536d6afa2a",
   "metadata": {},
   "source": [
    "The Countdown Numbers Game is a segment on the British game show <b>Countdown</b> that tests contestant' mental agility and mathematical skills. There are several rounds in the game with one of those most iconic being the <b> Numbers Round.</b> In this round, contestants are given a selection of numbers and a target number. Using only basic mathematical operations - addition (+), subtraction (-), multiplication (x) and division (÷), the contestants must manipulate the given numbers to reach the target number. \n",
    "\n",
    "<b>Game Rules</b>\n",
    "- Each given number may not be used more times that it appears on the selection board.\n",
    "- Negative numbers and fractions are disallowed.\n",
    "- Not all numbers need to be used.\n",
    "- Concatenation of numbers is disallowed. (Two occurences of 2 cannot be used to make 22)\n",
    "\n",
    "\n",
    "The randomly chosen selection typically includes a mix of both large and small numbers with the aim of making the target number difficult to reach, but still achievable. In some cases the target number is not possible to solve using the selected numbers, contestants can still aim to achieve the closest approximation.\n",
    "\n",
    "<b>Breakdown of Numbers Round</b>\n",
    "\n",
    "1.<b> Number Selection:</b> Combination of six numbers are selected from two sets. Small (1 - 10) and large (25, 50, 75, 100).<br>\n",
    "2. <b>Target Number:</b> A random three-digit number is generated between 101 and 999.<br>\n",
    "3. <b>Solution:</b> A timer of 30 seconds begins counting down, mathematical operations are used to reach the target number. <br>\n",
    "4. <b>Scoring:</b> Points are then awarded based on how close the contestant's solution is to the target. Maximum points awarded for reaching the exact target.<br>\n",
    "5. <b>Scores: </b> 10 Points for exact solution. 7 Points fo\n",
    "\n",
    "<b> Breakdown of Score System </b>\n",
    "- 10 Points awarded for getting correct solution.\n",
    "- 7 Points awarded for getting within 5 of the solution.\n",
    "- 5 Points awarded for getting within 10 of the solution.\n",
    "\n",
    "For the purposes of this notebook we will be excluding the scoring system.<br>\n",
    "<a href=\"#bib-list\">[1]</a>\n"
   ]
  },
  {
   "cell_type": "markdown",
   "id": "bd1f4797-c330-4f5b-8bc8-74077a0e7f57",
   "metadata": {},
   "source": [
    "<figure>\n",
    "    <img src=\"https://blogger.googleusercontent.com/img/b/R29vZ2xl/AVvXsEgKXBzLaNhXnaCgg8NlQDyCUNka-c4c0-he-ePD_FZa1naz4nLZlFBsZLqCcpuMgQoqPweD4AtbrcNntAv-vxecRUebtdQIRCJiWVoeVx-KKOZIzqVwB-6qJ5rcs751YjDk3IF1PX1F_5ie/s640/Countdown.png\" alt=\"Example\" width=\"400\" height=\"400\">\n",
    "    <figcaption>Number Selection, Target and Solution for a typical Numbers Round.<a href=\"#bib-list\">[2]</a></figcaption\n",
    "</figure>"
   ]
  },
  {
   "cell_type": "markdown",
   "id": "a8933250-e83d-49da-9b7b-3c388db6095d",
   "metadata": {},
   "source": [
    "## Computational Complexity"
   ]
  },
  {
   "cell_type": "markdown",
   "id": "44f92d71-5ad3-4409-965e-90b9971f9bc6",
   "metadata": {},
   "source": [
    "---"
   ]
  },
  {
   "cell_type": "markdown",
   "id": "8292a6bf-ed6a-42d9-a80e-e9b28308f641",
   "metadata": {},
   "source": [
    "#### The Numbers Game can be mapped to a problem:\n",
    "\n",
    "<b>Search Space:</b> The Numbers Game problem has a vast search space which it owes to the combinatorial nature of selecting and combining the numbers with valid mathematical operations. The number of ways to manipulate six numbers is exponential. This makes the search space grow quickly with each additional number\n",
    "\n",
    "\n",
    "<b>NP Hardness:</b> The problem is classified as NP hard. This means that no polynomial-time algorithm exists that can solve all instances of the Numbers Game. The exponential nature of checking each combination and permutation of numbers with the four valid mathematical operations means it is not feasible to efficiently solve all cases.\n",
    "\n",
    "<b> Decision Problem:</b> The Numbers Game can be formulated into a decision problem by asking the question - <b>Can a target number be reached using the given six numbers and four mathematical operations?</b> This problem is equivalent to other NP-complete problems which confirms its computational difficulty.\n",
    "\n",
    "#### Approaches to solving the game:\n",
    "\n",
    "<b>Backtracking:</b> Backtracking algorithms explore the search space depth-first, retracting it's steps upon hitting invalid expressions or when the target is reached. This can be effective in the pruning of the search space.\n",
    "\n",
    "<b>Dynamic Programming:</b> This approach attempts to store intermediate results in a table format, reducing any redundant calculations. But the need tos tore and retrieve results for each combination and operation can be taxing on memory.\n",
    "\n",
    "<b>Brute Force:</b> This approach involved generating all valid expressions using the given six numbers and four mathematical operations, then checking if any combination leads to the target number. This is a simple approach but computationally it is expensive, with time complexity being proportional to the number of possible expressions.\n",
    "\n",
    "<b> Heuristic Search:</b> Heuristic algorithms such as greedy or genetic algorithms aim to explore solution space efficiently. They prioritise expressions over others trying to find a valid solution rapidly, although they do not guarantee a solution that is optimal.\n",
    "\n",
    "#### Research Findings\n",
    "\n",
    "Research of pre existing literature has shown that the Number Game problem has similarities to other computational problems. <a href=\"#bib-list\">[3][4]</a>\n",
    "\n",
    "<b>Knapsack Problem</b> \n",
    "1. Combinatorial Nature:\n",
    "- Countdown: The goal is to manipulate a set of given numbers using mathematical operations to reach a target number. There is a combinatorial nature because it involves selecting numbers and combining them in different ways, thus creating a large search space.\n",
    "- Knapsack: Items with specific weights and values must be selected to maximize value while staying within a weight limit. This also involves a combinatorial selection process, again creating an exponential search space.\n",
    "\n",
    "2. NP-Hardness:\n",
    "- Both the Countdown Numbers Game and the Knapsack Problem are NP-hard, meaning they belong to a class of problems that are computationally challenging to efficiently solve for all instances.\n",
    "\n",
    "3. Optimisation\n",
    "- Countdown: It can be seen as an optimisation problem where the goal is to reach the target number by efficiently combining the given numbers.\n",
    "- Knapsack: It is an optimisation problem where the goal is to maximise value within a given weight constraint.\n",
    "\n",
    "4. Dynamic Programming:\n",
    "- Both of these problems can be approached with dynamic programming. In Countdown, intermediate results can be stored to avoid redundant calculations. In Knapsack, dyanmic programming is often used to build up solutions incrementally, which improves computational efficiency.\n",
    "\n",
    "<b>Travelling Salesman</b>\n",
    "1. Combinatorial Nature:\n",
    "- Countdown: Involves selecting and combining numbers using different mathematical operations which creates a large combinatorial search space.\n",
    "- Travelling Salesman: Requires finding the shortest route that visits a set of cities exactly once and returning to the starting city, thus generating a large number of potential routes to explore.\n",
    "\n",
    "2. NP-Hardness:\n",
    "- Both Countdown and Travelling Salesman are NP-Hard meaning they both lack a known polynomial-time solution which makes them computationally challenging.\n",
    "\n",
    "3. Heuristic Approaches:\n",
    "- Countdown: Greedy or Genetic algorithms can be used to explore the solution space efficiently.\n",
    "- Travelling Salesman: Nearest neighbour, simulated annealing and genetic algorithms can be applied to find near optimal solutions.\n",
    "\n",
    "4. Back Tracking\n",
    "- Countdown: Backtracking explores different ways to combine numbers, retracting steps when they do not lead to a valid solution.\n",
    "- Travelling Salesman: Different routes can be explored and steps retracted if a shorter route is not found."
   ]
  },
  {
   "cell_type": "markdown",
   "id": "c1789c7f-c344-432b-9ac5-f486783b5349",
   "metadata": {},
   "source": [
    "## Implementation of a Solution"
   ]
  },
  {
   "cell_type": "markdown",
   "id": "18412b34-4ce5-4053-8314-2510ebdbbc83",
   "metadata": {},
   "source": [
    "---"
   ]
  },
  {
   "cell_type": "markdown",
   "id": "83fedf88-3a85-47c3-b225-7881457b7dba",
   "metadata": {},
   "source": [
    "<b>solve_numbers</b> has the goal of finding a solution to the Countdown Numbers Game or to get within 5 numbers of the target. This solution uses pure functions to manipulate the numbers and calculate results, high-order functions as <b>itertools</b> to allow convenient and efficient generation of pairs and operation combinations, and immutable data types.\n",
    "\n",
    "<b>apply_operation</b> safely performs the mathematical operations, avoiding division by 0.\n",
    "\n",
    "A random target is chosen each time the code is executed.\n",
    "\n",
    "This solution was generated with the assistance of OpenAI GPT3.5 <a href=\"#bib-list\">[5]</a>"
   ]
  },
  {
   "cell_type": "code",
   "execution_count": 10,
   "id": "a88354e5-8401-4399-a771-e56b52c9e6f8",
   "metadata": {
    "tags": []
   },
   "outputs": [
    {
     "name": "stdout",
     "output_type": "stream",
     "text": [
      "Numbers: [10, 20, 30, 5, 4, 3]\n",
      "Target: 275\n",
      "Expression: [10, '*', 20, '*', 4, '+', 30, '-', 5, '/', 3]\n",
      "Result: 275.0\n",
      "\n",
      "Numbers: [8, 4, 16, 2, 6, 10]\n",
      "Target: 200\n",
      "Expression: [8, '+', 4, '+', 16, '-', 2, '-', 6, '*', 10]\n",
      "Result: 200\n",
      "\n",
      "Numbers: [9, 7, 13, 12, 11, 5]\n",
      "Target: 300\n",
      "Expression: [9, '+', 7, '+', 12, '*', 11, '-', 13, '+', 5]\n",
      "Result: 300\n",
      "\n",
      "Numbers: [100, 50, 25, 75, 2, 3]\n",
      "Target: 1200\n",
      "Expression: [100, '+', 50, '-', 25, '+', 75, '*', 2, '*', 3]\n",
      "Result: 1200\n",
      "\n",
      "Numbers: [5, 10, 15, 20, 25, 30]\n",
      "Target: 180\n",
      "Expression: [5, '+', 10, '/', 15, '-', 20, '+', 25, '*', 30]\n",
      "Result: 180.0\n",
      "\n"
     ]
    }
   ],
   "source": [
    "import itertools\n",
    "\n",
    "def apply_operation(a, b, operation):\n",
    "    \"\"\"Applies a given arithmetic operation between two numbers.\"\"\"\n",
    "    if operation == '+':\n",
    "        return a + b\n",
    "    elif operation == '-':\n",
    "        return a - b\n",
    "    elif operation == '*':\n",
    "        return a * b\n",
    "    elif operation == '/' and b != 0:\n",
    "        return a / b\n",
    "    return None\n",
    "\n",
    "def solve_numbers(numbers, target):\n",
    "    \"\"\"Finds a solution to the Countdown numbers game or one within 5 units of the target.\"\"\"\n",
    "    closest_diff = float('inf')\n",
    "    best_solution = None\n",
    "\n",
    "    # Iterates through each permutation of numbers\n",
    "    for perm in itertools.permutations(numbers):\n",
    "        # Iterates through all possible combinations of operations\n",
    "        for ops in itertools.product(\"+-*/\", repeat=len(numbers) - 1):\n",
    "            expression = [perm[0]]  # Start with first number\n",
    "            result = perm[0]\n",
    "            valid = True\n",
    "            \n",
    "            # Applies each operation to current result\n",
    "            for i, op in enumerate(ops):\n",
    "                result = apply_operation(result, perm[i + 1], op)\n",
    "                if result is None:\n",
    "                    valid = False\n",
    "                    break\n",
    "                expression.append(op)\n",
    "                expression.append(perm[i + 1])\n",
    "\n",
    "            if valid:\n",
    "                # Calculates difference from target\n",
    "                diff = abs(target - result)\n",
    "                if diff < closest_diff:\n",
    "                    closest_diff = diff\n",
    "                    best_solution = (expression, result)\n",
    "\n",
    "                # Returns immediately if exact match is found\n",
    "                if diff == 0:\n",
    "                    return expression, result\n",
    "\n",
    "    # Returns closest solution found, if within 5 units of target\n",
    "    if closest_diff <= 5:\n",
    "        return best_solution\n",
    "\n",
    "    return None\n",
    "\n",
    "# Extra Test cases\n",
    "def test_cases():\n",
    "    cases = [\n",
    "        \n",
    "        ([10, 20, 30, 5, 4, 3], 275),\n",
    "        \n",
    "        \n",
    "        ([8, 4, 16, 2, 6, 10], 200),\n",
    "        \n",
    "        \n",
    "        ([9, 7, 13, 12, 11, 5], 300),\n",
    "        \n",
    "        \n",
    "        ([100, 50, 25, 75, 2, 3], 1200),\n",
    "        \n",
    "       \n",
    "        ([5, 10, 15, 20, 25, 30], 180)\n",
    "    ]\n",
    "\n",
    "    for numbers, target in cases:\n",
    "        print(f\"Numbers: {numbers}\")\n",
    "        print(f\"Target: {target}\")\n",
    "        solution = solve_numbers(numbers, target)\n",
    "        if solution:\n",
    "            expr, res = solution\n",
    "            print(\"Expression:\", expr)\n",
    "            print(\"Result:\", res)\n",
    "        else:\n",
    "            print(\"No valid solution found\")\n",
    "        print()\n",
    "\n",
    "# Run test cases\n",
    "test_cases()\n"
   ]
  },
  {
   "cell_type": "markdown",
   "id": "062d0b56-7dd5-4c88-87af-cd52054f8d1b",
   "metadata": {},
   "source": [
    "<b>Implementation:</b>\n",
    "\n",
    "1. Pure Functions:\n",
    "- apply_operation:  Given two numbers and an operation, it returns a new value without any side effects. It performs mathematical operations, including safe division by checking if the divisor is non-zero. The functions output solely depends on its input values, making it consistent and predictable.\n",
    "- solve_numbers: It takes two inputs a list of numbers and a target. It applies operations to generate solutions without modifying any global state.\n",
    "\n",
    "2. High-Order:\n",
    "- itertools.permutations: Used to generate all permutations of the input list of numbers. This allows us to consider all possible orders in which the numbers can be combined.\n",
    "- itertools.product: This generates all possible combinations of mathematical operations that can be applied between the numbers. It effectively enables a brute-force solution to find all valid ways of combining the numbers.\n",
    "\n",
    "3. Immutability:\n",
    "- The combinations generated by itertools.permutations and itertools.product are stored as tuples. Tuples are immutable data structures ensuring that once they are created, they can't be accidentally modified.\n",
    "- solve_numbers builds arithmetic expressions as lists, but these are used internally and do not modify the input numbers.\n",
    "\n",
    "4. Declared Style\n",
    "- This solution focuses in on <b>what to do</b> rather than <b>how to do it</b>.\n",
    "- It shows the closest valid solution and immediately returns it when found."
   ]
  },
  {
   "cell_type": "markdown",
   "id": "6873047c-8507-42dd-8b95-ee789fc4fc86",
   "metadata": {},
   "source": [
    "## Bibliography <a id=\"bib-list\"> </a>"
   ]
  },
  {
   "cell_type": "markdown",
   "id": "e3b6e64a-c192-4e2c-9749-1787c87e29dc",
   "metadata": {},
   "source": [
    "---"
   ]
  },
  {
   "cell_type": "markdown",
   "id": "7b7b2405-8513-4cbf-8e86-4b66c3da9cef",
   "metadata": {},
   "source": [
    "[1]: datagenetics.com. (n.d.). Countdown Numbers Game. [online] Available at: http://datagenetics.com/blog/august32014/index.html.\n",
    "‌\n",
    "\n",
    "[2]: Maths Ed Ideas. (2017). Maths Ed Ideas: On ‘Incredible’ Feats of Mental Arithmetic (in Countdown). [online] Available at: https://mathsedideas.blogspot.com/2017/11/on-incredible-feats-of-mental.html .\n",
    "\n",
    "[3] GeeksforGeeks. (2023). Introduction to Knapsack Problem, its Types and How to solve them. [online] Available at: https://www.geeksforgeeks.org/introduction-to-knapsack-problem-its-types-and-how-to-solve-them/.\n",
    "\n",
    "‌\n",
    "[4] GeeksforGeeks (2013). Travelling Salesman Problem using Dynamic Programming. [online] GeeksforGeeks. Available at: https://www.geeksforgeeks.org/travelling-salesman-problem-using-dynamic-programming/.\n",
    "\n",
    "‌[5] OpenAI (2023). ChatGPT. [online] OpenAI. Available at: https://openai.com/chatgpt.\n",
    "\n",
    "‌\n",
    "‌"
   ]
  },
  {
   "cell_type": "markdown",
   "id": "c5db906d-f10d-46c7-a05a-a0a1073304f9",
   "metadata": {},
   "source": [
    "---"
   ]
  },
  {
   "cell_type": "markdown",
   "id": "f337b006-d66d-4191-b9aa-c37119da518a",
   "metadata": {},
   "source": [
    "## End"
   ]
  }
 ],
 "metadata": {
  "kernelspec": {
   "display_name": "Python 3 (ipykernel)",
   "language": "python",
   "name": "python3"
  },
  "language_info": {
   "codemirror_mode": {
    "name": "ipython",
    "version": 3
   },
   "file_extension": ".py",
   "mimetype": "text/x-python",
   "name": "python",
   "nbconvert_exporter": "python",
   "pygments_lexer": "ipython3",
   "version": "3.11.5"
  }
 },
 "nbformat": 4,
 "nbformat_minor": 5
}
